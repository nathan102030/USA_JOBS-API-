{
 "cells": [
  {
   "cell_type": "code",
   "execution_count": 1,
   "id": "07186dc7-7009-4fc6-a6e7-0e27e5e6e6c3",
   "metadata": {},
   "outputs": [],
   "source": [
    "import requests\n",
    "import csv\n",
    "import json\n"
   ]
  },
  {
   "cell_type": "code",
   "execution_count": 3,
   "id": "7f3510ea-c999-4262-99e8-938f9d3f694e",
   "metadata": {},
   "outputs": [],
   "source": [
    "# Function to get job information from the API\n",
    "def get_job_information(description, location):\n",
    "    headers = {\n",
    "        \"Host\": \"data.usajobs.gov\",\n",
    "        \"User-Agent\": \"hannah@juliusedu.com\",\n",
    "        \"Authorization-Key\": \"SCirSruobjNb3yDh+9iy6kYz7cdzE9UnDndyIpUh2dY=\"\n",
    "    }\n",
    "    jobs_endpoint = f'https://data.usajobs.gov/api/search?Keyword={description}&LocationName={location}'\n",
    "    response = requests.get(jobs_endpoint, headers=headers)\n",
    "    response.raise_for_status()  # Raise an exception for HTTP errors\n",
    "    jobs_data = response.json()\n",
    "    return jobs_data"
   ]
  },
  {
   "cell_type": "code",
   "execution_count": 4,
   "id": "4892628b-7d1d-44d7-9e91-d6ccf74538b6",
   "metadata": {},
   "outputs": [],
   "source": [
    "def save_results_to_csv(jobs_data):\n",
    "    jobs = jobs_data.get('SearchResult', {}).get('SearchResultItems', [])\n",
    "    \n",
    "    if not jobs:\n",
    "        print(\"No jobs found.\")\n",
    "        return\n",
    "\n",
    "    with open('jobs_results.csv', mode='a', newline='', encoding='utf-8') as file:\n",
    "        csv_writer = csv.writer(file)\n",
    "        # Write header if file is empty\n",
    "        if file.tell() == 0:\n",
    "            csv_writer.writerow(['Title', 'URL', 'Description'])\n",
    "\n",
    "        for job in jobs:\n",
    "            job_descriptor = job.get('MatchedObjectDescriptor', {})\n",
    "            title = job_descriptor.get('PositionTitle', 'N/A')\n",
    "            url = job_descriptor.get('PositionURI', 'N/A')\n",
    "            description = job_descriptor.get('QualificationSummary', 'N/A')\n",
    "            csv_writer.writerow([title, url, description])\n",
    "        print('The CSV file was written successfully')"
   ]
  },
  {
   "cell_type": "code",
   "execution_count": 5,
   "id": "4e70ed2a-af20-47a5-99bc-35cb955b23f6",
   "metadata": {},
   "outputs": [
    {
     "name": "stdout",
     "output_type": "stream",
     "text": [
      "The CSV file was written successfully\n"
     ]
    }
   ],
   "source": [
    "# Function to run the script\n",
    "def main():\n",
    "    description = \"energy\"\n",
    "    location = \"\"\n",
    "    jobs_data = get_job_information(description, location)\n",
    "    save_results_to_csv(jobs_data)\n",
    "\n",
    "if __name__ == \"__main__\":\n",
    "    main()"
   ]
  },
  {
   "cell_type": "code",
   "execution_count": null,
   "id": "59dfa910-7ce4-4fc8-afa5-64995252d0ba",
   "metadata": {},
   "outputs": [],
   "source": []
  }
 ],
 "metadata": {
  "kernelspec": {
   "display_name": "Python 3 (ipykernel)",
   "language": "python",
   "name": "python3"
  },
  "language_info": {
   "codemirror_mode": {
    "name": "ipython",
    "version": 3
   },
   "file_extension": ".py",
   "mimetype": "text/x-python",
   "name": "python",
   "nbconvert_exporter": "python",
   "pygments_lexer": "ipython3",
   "version": "3.11.5"
  }
 },
 "nbformat": 4,
 "nbformat_minor": 5
}
